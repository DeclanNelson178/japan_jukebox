{
 "cells": [
  {
   "cell_type": "code",
   "execution_count": 6,
   "id": "f6e4495f-e6e1-446f-ac9d-638551f94ddf",
   "metadata": {},
   "outputs": [],
   "source": [
    "import wave\n",
    "import numpy as np\n",
    "import matplotlib.pyplot as plt"
   ]
  },
  {
   "cell_type": "code",
   "execution_count": 17,
   "id": "28bdfb5e-fd03-46ce-8285-22ae2b2830c1",
   "metadata": {},
   "outputs": [
    {
     "name": "stdout",
     "output_type": "stream",
     "text": [
      "Number of frames: 288855\n",
      "Length of signal list: 288855\n",
      "Length of audio: 6.55\n"
     ]
    }
   ],
   "source": [
    "file = 'bugatti_start.wav'\n",
    "song = wave.open(file, 'r')\n",
    "\n",
    "raw_signal = song.readframes(-1)\n",
    "# we guessed int32 so that the signal and the song will have the same number of frames\n",
    "signal = np.frombuffer(raw_signal, 'int32')\n",
    "\n",
    "print(f'Number of frames: {song.getnframes()}')\n",
    "print(f'Length of signal list: {len(signal)}')\n",
    "print(f'Length of audio: {song.getnframes() / song.getframerate()}') "
   ]
  },
  {
   "cell_type": "code",
   "execution_count": null,
   "id": "2ec2e3ef-2f9d-4c6e-bba9-69dc66b55b3a",
   "metadata": {},
   "outputs": [],
   "source": [
    "print("
   ]
  }
 ],
 "metadata": {
  "kernelspec": {
   "display_name": "jukebox",
   "language": "python",
   "name": "jukebox"
  },
  "language_info": {
   "codemirror_mode": {
    "name": "ipython",
    "version": 3
   },
   "file_extension": ".py",
   "mimetype": "text/x-python",
   "name": "python",
   "nbconvert_exporter": "python",
   "pygments_lexer": "ipython3",
   "version": "3.10.5"
  }
 },
 "nbformat": 4,
 "nbformat_minor": 5
}
